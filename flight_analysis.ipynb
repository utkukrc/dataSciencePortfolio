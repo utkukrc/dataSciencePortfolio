{
 "cells": [
  {
   "cell_type": "markdown",
   "id": "c5a93098",
   "metadata": {},
   "source": [
    "# Data Analysis (Flights)\n",
    "\n",
    "A real-world dataset containing flights data from the US Department of Transportation is explored in this tutorial.\n",
    "\n",
    "We start with loading the data."
   ]
  },
  {
   "cell_type": "code",
   "execution_count": 10,
   "id": "92d79ae3",
   "metadata": {},
   "outputs": [
    {
     "name": "stdout",
     "output_type": "stream",
     "text": [
      "The data set contains 271940 rows and 20 columns.\n"
     ]
    }
   ],
   "source": [
    "import pandas as pd\n",
    "\n",
    "flights = pd.read_csv('./datasets/flights.csv')\n",
    "\n",
    "print('The data set contains {} rows and {} columns.'.format(flights.shape[0], flights.shape[1]))"
   ]
  },
  {
   "cell_type": "markdown",
   "id": "06b8d394",
   "metadata": {},
   "source": [
    "There seems 271940 flights appeared in the data set. Let us have look at the first rows."
   ]
  },
  {
   "cell_type": "code",
   "execution_count": 11,
   "id": "55af1b0f",
   "metadata": {},
   "outputs": [
    {
     "data": {
      "text/html": [
       "<div>\n",
       "<style scoped>\n",
       "    .dataframe tbody tr th:only-of-type {\n",
       "        vertical-align: middle;\n",
       "    }\n",
       "\n",
       "    .dataframe tbody tr th {\n",
       "        vertical-align: top;\n",
       "    }\n",
       "\n",
       "    .dataframe thead th {\n",
       "        text-align: right;\n",
       "    }\n",
       "</style>\n",
       "<table border=\"1\" class=\"dataframe\">\n",
       "  <thead>\n",
       "    <tr style=\"text-align: right;\">\n",
       "      <th></th>\n",
       "      <th>Year</th>\n",
       "      <th>Month</th>\n",
       "      <th>DayofMonth</th>\n",
       "      <th>DayOfWeek</th>\n",
       "      <th>Carrier</th>\n",
       "      <th>OriginAirportID</th>\n",
       "      <th>OriginAirportName</th>\n",
       "      <th>OriginCity</th>\n",
       "      <th>OriginState</th>\n",
       "      <th>DestAirportID</th>\n",
       "      <th>DestAirportName</th>\n",
       "      <th>DestCity</th>\n",
       "      <th>DestState</th>\n",
       "      <th>CRSDepTime</th>\n",
       "      <th>DepDelay</th>\n",
       "      <th>DepDel15</th>\n",
       "      <th>CRSArrTime</th>\n",
       "      <th>ArrDelay</th>\n",
       "      <th>ArrDel15</th>\n",
       "      <th>Cancelled</th>\n",
       "    </tr>\n",
       "  </thead>\n",
       "  <tbody>\n",
       "    <tr>\n",
       "      <th>0</th>\n",
       "      <td>2013</td>\n",
       "      <td>9</td>\n",
       "      <td>16</td>\n",
       "      <td>1</td>\n",
       "      <td>DL</td>\n",
       "      <td>15304</td>\n",
       "      <td>Tampa International</td>\n",
       "      <td>Tampa</td>\n",
       "      <td>FL</td>\n",
       "      <td>12478</td>\n",
       "      <td>John F. Kennedy International</td>\n",
       "      <td>New York</td>\n",
       "      <td>NY</td>\n",
       "      <td>1539</td>\n",
       "      <td>4</td>\n",
       "      <td>0.0</td>\n",
       "      <td>1824</td>\n",
       "      <td>13</td>\n",
       "      <td>0</td>\n",
       "      <td>0</td>\n",
       "    </tr>\n",
       "    <tr>\n",
       "      <th>1</th>\n",
       "      <td>2013</td>\n",
       "      <td>9</td>\n",
       "      <td>23</td>\n",
       "      <td>1</td>\n",
       "      <td>WN</td>\n",
       "      <td>14122</td>\n",
       "      <td>Pittsburgh International</td>\n",
       "      <td>Pittsburgh</td>\n",
       "      <td>PA</td>\n",
       "      <td>13232</td>\n",
       "      <td>Chicago Midway International</td>\n",
       "      <td>Chicago</td>\n",
       "      <td>IL</td>\n",
       "      <td>710</td>\n",
       "      <td>3</td>\n",
       "      <td>0.0</td>\n",
       "      <td>740</td>\n",
       "      <td>22</td>\n",
       "      <td>1</td>\n",
       "      <td>0</td>\n",
       "    </tr>\n",
       "    <tr>\n",
       "      <th>2</th>\n",
       "      <td>2013</td>\n",
       "      <td>9</td>\n",
       "      <td>7</td>\n",
       "      <td>6</td>\n",
       "      <td>AS</td>\n",
       "      <td>14747</td>\n",
       "      <td>Seattle/Tacoma International</td>\n",
       "      <td>Seattle</td>\n",
       "      <td>WA</td>\n",
       "      <td>11278</td>\n",
       "      <td>Ronald Reagan Washington National</td>\n",
       "      <td>Washington</td>\n",
       "      <td>DC</td>\n",
       "      <td>810</td>\n",
       "      <td>-3</td>\n",
       "      <td>0.0</td>\n",
       "      <td>1614</td>\n",
       "      <td>-7</td>\n",
       "      <td>0</td>\n",
       "      <td>0</td>\n",
       "    </tr>\n",
       "    <tr>\n",
       "      <th>3</th>\n",
       "      <td>2013</td>\n",
       "      <td>7</td>\n",
       "      <td>22</td>\n",
       "      <td>1</td>\n",
       "      <td>OO</td>\n",
       "      <td>13930</td>\n",
       "      <td>Chicago O'Hare International</td>\n",
       "      <td>Chicago</td>\n",
       "      <td>IL</td>\n",
       "      <td>11042</td>\n",
       "      <td>Cleveland-Hopkins International</td>\n",
       "      <td>Cleveland</td>\n",
       "      <td>OH</td>\n",
       "      <td>804</td>\n",
       "      <td>35</td>\n",
       "      <td>1.0</td>\n",
       "      <td>1027</td>\n",
       "      <td>33</td>\n",
       "      <td>1</td>\n",
       "      <td>0</td>\n",
       "    </tr>\n",
       "    <tr>\n",
       "      <th>4</th>\n",
       "      <td>2013</td>\n",
       "      <td>5</td>\n",
       "      <td>16</td>\n",
       "      <td>4</td>\n",
       "      <td>DL</td>\n",
       "      <td>13931</td>\n",
       "      <td>Norfolk International</td>\n",
       "      <td>Norfolk</td>\n",
       "      <td>VA</td>\n",
       "      <td>10397</td>\n",
       "      <td>Hartsfield-Jackson Atlanta International</td>\n",
       "      <td>Atlanta</td>\n",
       "      <td>GA</td>\n",
       "      <td>545</td>\n",
       "      <td>-1</td>\n",
       "      <td>0.0</td>\n",
       "      <td>728</td>\n",
       "      <td>-9</td>\n",
       "      <td>0</td>\n",
       "      <td>0</td>\n",
       "    </tr>\n",
       "  </tbody>\n",
       "</table>\n",
       "</div>"
      ],
      "text/plain": [
       "   Year  Month  DayofMonth  DayOfWeek Carrier  OriginAirportID  \\\n",
       "0  2013      9          16          1      DL            15304   \n",
       "1  2013      9          23          1      WN            14122   \n",
       "2  2013      9           7          6      AS            14747   \n",
       "3  2013      7          22          1      OO            13930   \n",
       "4  2013      5          16          4      DL            13931   \n",
       "\n",
       "              OriginAirportName  OriginCity OriginState  DestAirportID  \\\n",
       "0           Tampa International       Tampa          FL          12478   \n",
       "1      Pittsburgh International  Pittsburgh          PA          13232   \n",
       "2  Seattle/Tacoma International     Seattle          WA          11278   \n",
       "3  Chicago O'Hare International     Chicago          IL          11042   \n",
       "4         Norfolk International     Norfolk          VA          10397   \n",
       "\n",
       "                            DestAirportName    DestCity DestState  CRSDepTime  \\\n",
       "0             John F. Kennedy International    New York        NY        1539   \n",
       "1              Chicago Midway International     Chicago        IL         710   \n",
       "2         Ronald Reagan Washington National  Washington        DC         810   \n",
       "3           Cleveland-Hopkins International   Cleveland        OH         804   \n",
       "4  Hartsfield-Jackson Atlanta International     Atlanta        GA         545   \n",
       "\n",
       "   DepDelay  DepDel15  CRSArrTime  ArrDelay  ArrDel15  Cancelled  \n",
       "0         4       0.0        1824        13         0          0  \n",
       "1         3       0.0         740        22         1          0  \n",
       "2        -3       0.0        1614        -7         0          0  \n",
       "3        35       1.0        1027        33         1          0  \n",
       "4        -1       0.0         728        -9         0          0  "
      ]
     },
     "execution_count": 11,
     "metadata": {},
     "output_type": "execute_result"
    }
   ],
   "source": [
    "flights.head()"
   ]
  },
  {
   "cell_type": "markdown",
   "id": "f0ee4441",
   "metadata": {},
   "source": [
    "We can take a close look at the columns."
   ]
  },
  {
   "cell_type": "code",
   "execution_count": 12,
   "id": "2ab213d6",
   "metadata": {},
   "outputs": [
    {
     "data": {
      "text/plain": [
       "Index(['Year', 'Month', 'DayofMonth', 'DayOfWeek', 'Carrier',\n",
       "       'OriginAirportID', 'OriginAirportName', 'OriginCity', 'OriginState',\n",
       "       'DestAirportID', 'DestAirportName', 'DestCity', 'DestState',\n",
       "       'CRSDepTime', 'DepDelay', 'DepDel15', 'CRSArrTime', 'ArrDelay',\n",
       "       'ArrDel15', 'Cancelled'],\n",
       "      dtype='object')"
      ]
     },
     "execution_count": 12,
     "metadata": {},
     "output_type": "execute_result"
    }
   ],
   "source": [
    "flights.columns"
   ]
  },
  {
   "cell_type": "markdown",
   "id": "a3ee6e7c",
   "metadata": {},
   "source": [
    "The data set has $20$ columns:\n",
    "\n",
    "- Year: Should always be $2013$ for this data set \n",
    "- Month: The month of the flight\n",
    "- DayofMonth: The day of the flight\n",
    "- DayOfWeek: The week day of the flight\n",
    "- Carrier: The carrier of the flight\n",
    "- OriginAirportID: The origin airport id\n",
    "- OriginAirportName: The origin airport name\n",
    "- OriginCity: The origin city \n",
    "- OriginState: The origin state\n",
    "- DestAirportID: The destination airport id\n",
    "- DestAirportName: The destination airport name\n",
    "- DestCity: The destination city\n",
    "- DestState: The destination state\n",
    "- CRSDepTime: The scheduled departure time\n",
    "- DepDelay: Delay in the departure time (mins)\n",
    "- DepDel15: Whether the flight is delayed at the departure more than 15 mins (binary)\n",
    "- CRSArrTime: The scheduled arrival time\n",
    "- ArrDelay: Delay in the arrival time (mins)\n",
    "- ArrDel15: Whether the flight is delayed at the arrival more than 15 mins (binary)\n",
    "- Cancelled: Whether the flight is cancelled (binary)"
   ]
  },
  {
   "cell_type": "markdown",
   "id": "661450c5",
   "metadata": {},
   "source": [
    "## Data cleaning\n",
    "\n",
    "Let us have a look at whether the data set contains any null or missing data. "
   ]
  },
  {
   "cell_type": "code",
   "execution_count": 13,
   "id": "80963c00",
   "metadata": {},
   "outputs": [
    {
     "data": {
      "text/plain": [
       "Year                    0\n",
       "Month                   0\n",
       "DayofMonth              0\n",
       "DayOfWeek               0\n",
       "Carrier                 0\n",
       "OriginAirportID         0\n",
       "OriginAirportName       0\n",
       "OriginCity              0\n",
       "OriginState             0\n",
       "DestAirportID           0\n",
       "DestAirportName         0\n",
       "DestCity                0\n",
       "DestState               0\n",
       "CRSDepTime              0\n",
       "DepDelay                0\n",
       "DepDel15             2761\n",
       "CRSArrTime              0\n",
       "ArrDelay                0\n",
       "ArrDel15                0\n",
       "Cancelled               0\n",
       "dtype: int64"
      ]
     },
     "execution_count": 13,
     "metadata": {},
     "output_type": "execute_result"
    }
   ],
   "source": [
    "flights.isnull().sum()"
   ]
  },
  {
   "cell_type": "markdown",
   "id": "b69ad097",
   "metadata": {},
   "source": [
    "It seems that the column `DepDel15` includes $2761$ null values. As this columns is directly computed using `DepDelay` column, it is wise to first check the corresponding lines."
   ]
  },
  {
   "cell_type": "code",
   "execution_count": 14,
   "id": "9f689784",
   "metadata": {},
   "outputs": [
    {
     "data": {
      "text/plain": [
       "count    2761.0\n",
       "mean        0.0\n",
       "std         0.0\n",
       "min         0.0\n",
       "25%         0.0\n",
       "50%         0.0\n",
       "75%         0.0\n",
       "max         0.0\n",
       "Name: DepDelay, dtype: float64"
      ]
     },
     "execution_count": 14,
     "metadata": {},
     "output_type": "execute_result"
    }
   ],
   "source": [
    "flights[flights.isnull().any(axis=1)].DepDelay.describe()"
   ]
  },
  {
   "cell_type": "markdown",
   "id": "d514e9e5",
   "metadata": {},
   "source": [
    "As seen above, they are all $0$ values for the departures. It seems suspicious. They cannot be all zero minutes. Let us have a look at the whole column description."
   ]
  },
  {
   "cell_type": "code",
   "execution_count": 15,
   "id": "e6a870b9",
   "metadata": {},
   "outputs": [
    {
     "data": {
      "text/plain": [
       "count    271940.000000\n",
       "mean         10.350449\n",
       "std          35.673710\n",
       "min         -63.000000\n",
       "25%          -4.000000\n",
       "50%          -1.000000\n",
       "75%           9.000000\n",
       "max        1425.000000\n",
       "Name: DepDelay, dtype: float64"
      ]
     },
     "execution_count": 15,
     "metadata": {},
     "output_type": "execute_result"
    }
   ],
   "source": [
    "flights.DepDelay.describe()"
   ]
  },
  {
   "cell_type": "markdown",
   "id": "44b6b040",
   "metadata": {},
   "source": [
    "The mean value and the median value show us that an average flight is not delayed more than 15 minutes. Thus, we can safely replace null values by $0$."
   ]
  },
  {
   "cell_type": "code",
   "execution_count": 16,
   "id": "8ef872a9",
   "metadata": {},
   "outputs": [],
   "source": [
    "flights.DepDel15 = flights.DepDel15.fillna(0)"
   ]
  },
  {
   "cell_type": "markdown",
   "id": "472072dc",
   "metadata": {},
   "source": [
    "There exists no null values in our data set. Now, we can move on to the exploring the data in detail. We can have a look at the outliars. Recall our columns, it is not wise to check all the columns. Actually, an outlier can exist on only two columns, namely `DepDelay` and `ArrDelay`."
   ]
  },
  {
   "cell_type": "code",
   "execution_count": null,
   "id": "4870f654",
   "metadata": {},
   "outputs": [],
   "source": []
  }
 ],
 "metadata": {
  "kernelspec": {
   "display_name": "Python 3 (ipykernel)",
   "language": "python",
   "name": "python3"
  },
  "language_info": {
   "codemirror_mode": {
    "name": "ipython",
    "version": 3
   },
   "file_extension": ".py",
   "mimetype": "text/x-python",
   "name": "python",
   "nbconvert_exporter": "python",
   "pygments_lexer": "ipython3",
   "version": "3.8.12"
  }
 },
 "nbformat": 4,
 "nbformat_minor": 5
}
